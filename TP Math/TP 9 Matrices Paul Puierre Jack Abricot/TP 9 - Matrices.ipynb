{
 "cells": [
  {
   "cell_type": "markdown",
   "metadata": {},
   "source": [
    "<p><span style=\"font-size: large; background-color: #ffffff; color: #000000;\"><strong>Consignes :</strong></span></p>\n",
    "<ul>\n",
    "<li><span style=\"font-size: large; background-color: #ffffff; color: #000000;\"><strong><strong>Renommer ce fichier en ordre alphab&eacute;tique <span style=\"color: #ff0000;\">nom1-nom2-TP9</span></strong></strong></span></li>\n",
    "<li><span style=\"font-size: large; background-color: #ffffff; color: #000000;\"><strong><strong><strong>TP &agrave; rendre sur campus&nbsp;<span><span style=\"color: #ff0000;\">&agrave; la fin de la s&eacute;ance</span>.</span>&nbsp;</strong></strong></strong></span></li>\n",
    "<li><span style=\"font-size: large; background-color: #ffffff; color: #000000;\"><strong>TP &agrave; faire en groupe de 2. Le groupe de travail sera le m&ecirc;me pour toute l'ann&eacute;e.</strong></span></li>\n",
    "<li><span style=\"font-size: large; background-color: #ffffff; color: #ff0000;\"><span style=\"color: #000000;\"><strong>&Agrave; completer :</strong></span></span></li>\n",
    "</ul>\n",
    "<p><span style=\"font-size: large; background-color: #ffffff; color: #ff0000;\"><strong>NOM PRENOM 1 : PINATEAU Pierre 1<br /></strong></span></p>\n",
    "<p><span style=\"font-size: large; background-color: #ffffff; color: #ff0000;\"><strong>NOM PRENOM 2 : CUISINIER Paul 2</strong></span></p>\n",
    "<p>&nbsp;</p>\n",
    "<p><br /><span style=\"font-size: large;\"><strong></strong><strong>TP 9 : Matrices<br /></strong></span></p>\n",
    "<p><span style=\"font-size: large;\"><strong><br style=\"font-size: medium;\" /></strong></span></p>\n",
    "<ul>\n",
    "<li><span style=\"font-size: medium;\">La commande&nbsp;<strong>matrix(n,p,[ [ligne1], [ligne2], ... ])</strong>&nbsp;d&eacute;finit une matrice $n$ lignes et $p$ colonnes.</span></li>\n",
    "<li><span style=\"font-size: medium;\">On peut pr&eacute;ciser l'ensemble $\\mathbb{K}$ sur lequel on travail,&nbsp;&nbsp;<strong>A=matrix(QQ, [1,2], [3,4])</strong></span></li>\n",
    "<li><span style=\"font-size: medium;\">REMARQUE :&nbsp;Pour Sage, pour une matrice de taille $n$ les indices varient de $0$ &agrave; $n-1$.</span></li>\n",
    "<li><span style=\"font-size: medium;\">On peut aussi d&eacute;finir des vecteurs par&nbsp;<strong>vector([x1,x2,...,xn])</strong></span></li>\n",
    "<li><span style=\"font-size: medium;\">Si on d&eacute;finit un vecteur, par exemple&nbsp;<strong>v=vector([1,2,3,4])&nbsp;</strong>alors<strong>&nbsp;L=matrix(v)&nbsp;</strong>renvoie la matrice ligne correspondante.&nbsp;<strong>C=L.transpose()&nbsp;</strong>renvoie la matrice colonne correspondante.</span></li>\n",
    "<li><span style=\"font-size: medium;\">On multiplie deux matrices (compatibles) par&nbsp;<strong>A*B</strong></span></li>\n",
    "<li><span style=\"font-size: medium;\">On d&eacute;finit la matrice identit&eacute; de taille $n$ par&nbsp;<strong>I=identity_matrix(n)</strong></span></li>\n",
    "<li><span style=\"font-size: medium;\">On calcule le determinant par<strong>&nbsp;det(A)&nbsp;</strong>ou<strong>&nbsp;A.det()&nbsp;</strong></span></li>\n",
    "<li><span style=\"font-size: medium;\">On calcule l'inverse par&nbsp;<strong>A^-1</strong>&nbsp;ou&nbsp;<strong>A.inverse()</strong>&nbsp;ou&nbsp;<strong>~A</strong></span></li>\n",
    "</ul>\n",
    "<p>&nbsp;&nbsp;</p>\n",
    "<p>Consultez la documentation pour les <a style=\"font-size: medium;\" href=\"http://doc.sagemath.org/html/en/reference/matrices/sage/matrix/constructor.html\">matrices</a></p>\n",
    "<p><span style=\"font-size: medium;\"><strong><span style=\"font-size: large;\"><br /></span></strong></span></p>\n",
    "\n",
    "\n",
    "\n",
    "\n"
   ]
  },
  {
   "cell_type": "code",
   "execution_count": 2,
   "metadata": {},
   "outputs": [
    {
     "name": "stdout",
     "output_type": "stream",
     "text": [
      "La matrice A  est :\n"
     ]
    },
    {
     "data": {
      "text/html": [
       "<html><script type=\"math/tex; mode=display\">\\newcommand{\\Bold}[1]{\\mathbf{#1}}\\left(\\begin{array}{rr}\n",
       "1 & 2 \\\\\n",
       "3 & 4\n",
       "\\end{array}\\right)</script></html>"
      ],
      "text/plain": [
       "[1 2]\n",
       "[3 4]"
      ]
     },
     "metadata": {},
     "output_type": "display_data"
    },
    {
     "name": "stdout",
     "output_type": "stream",
     "text": [
      "La matrice B  est :\n"
     ]
    },
    {
     "data": {
      "text/html": [
       "<html><script type=\"math/tex; mode=display\">\\newcommand{\\Bold}[1]{\\mathbf{#1}}\\left(\\begin{array}{rr}\n",
       "7 & 2 \\\\\n",
       "3 & 4\n",
       "\\end{array}\\right)</script></html>"
      ],
      "text/plain": [
       "[7 2]\n",
       "[3 4]"
      ]
     },
     "metadata": {},
     "output_type": "display_data"
    },
    {
     "name": "stdout",
     "output_type": "stream",
     "text": [
      "La matrice A  est :\n"
     ]
    },
    {
     "data": {
      "text/html": [
       "<html><script type=\"math/tex; mode=display\">\\newcommand{\\Bold}[1]{\\mathbf{#1}}\\left(\\begin{array}{rr}\n",
       "7 & 2 \\\\\n",
       "3 & 4\n",
       "\\end{array}\\right)</script></html>"
      ],
      "text/plain": [
       "[7 2]\n",
       "[3 4]"
      ]
     },
     "metadata": {},
     "output_type": "display_data"
    }
   ],
   "source": [
    "#REMARQUE\n",
    "\n",
    "A=matrix([[1,2],[3,4]])\n",
    "print(\"La matrice A  est :\")\n",
    "show(A)\n",
    "B=A\n",
    "A[0,0]=7  #modification sur A\n",
    "\n",
    "print(\"La matrice B  est :\")\n",
    "show(B)\n",
    "print(\"La matrice A  est :\")\n",
    "show(A)"
   ]
  },
  {
   "cell_type": "markdown",
   "metadata": {},
   "source": [
    "<p>Qu'est-ce que vous remarquez ?</p>\n",
    "<p>Si on modifie la matrice $A$, la matrice $B$ est aussi modifi&eacute;e!</p>\n",
    "<p>POURQUOI ?</p>\n",
    "<p>$A$ ne contient pas les coefficients de la matrice, mais l'adresse o&ugrave; ils sont stock&eacute;s. Comme $A$ et $B$ pointent vers la même zone qui a &eacute;t&eacute; modifi&eacute;e, les deux matrices $A$ et $B$ sont modifi&eacute;es.</p>\n",
    "<p>Pour pouvoir d&eacute;finir une copie de $A$ avec une nouvelle adresse mais les mêmes coefficients, on &eacute;crit&nbsp;<strong><span>B = copy(A)</span></strong>. Les modifications sur $A$ ne changeront pas $B$.</p>"
   ]
  },
  {
   "cell_type": "code",
   "execution_count": 3,
   "metadata": {},
   "outputs": [
    {
     "name": "stdout",
     "output_type": "stream",
     "text": [
      "La matrice A  est :\n"
     ]
    },
    {
     "data": {
      "text/html": [
       "<html><script type=\"math/tex; mode=display\">\\newcommand{\\Bold}[1]{\\mathbf{#1}}\\left(\\begin{array}{rr}\n",
       "1 & 2 \\\\\n",
       "3 & 4\n",
       "\\end{array}\\right)</script></html>"
      ],
      "text/plain": [
       "[1 2]\n",
       "[3 4]"
      ]
     },
     "metadata": {},
     "output_type": "display_data"
    },
    {
     "name": "stdout",
     "output_type": "stream",
     "text": [
      "La matrice B  est :\n"
     ]
    },
    {
     "data": {
      "text/html": [
       "<html><script type=\"math/tex; mode=display\">\\newcommand{\\Bold}[1]{\\mathbf{#1}}\\left(\\begin{array}{rr}\n",
       "1 & 2 \\\\\n",
       "3 & 4\n",
       "\\end{array}\\right)</script></html>"
      ],
      "text/plain": [
       "[1 2]\n",
       "[3 4]"
      ]
     },
     "metadata": {},
     "output_type": "display_data"
    },
    {
     "name": "stdout",
     "output_type": "stream",
     "text": [
      "La matrice A  est :\n"
     ]
    },
    {
     "data": {
      "text/html": [
       "<html><script type=\"math/tex; mode=display\">\\newcommand{\\Bold}[1]{\\mathbf{#1}}\\left(\\begin{array}{rr}\n",
       "7 & 2 \\\\\n",
       "3 & 4\n",
       "\\end{array}\\right)</script></html>"
      ],
      "text/plain": [
       "[7 2]\n",
       "[3 4]"
      ]
     },
     "metadata": {},
     "output_type": "display_data"
    }
   ],
   "source": [
    "A=matrix([[1,2],[3,4]])\n",
    "print(\"La matrice A  est :\")\n",
    "show(A)\n",
    "\n",
    "B=copy(A)\n",
    "A[0,0]=7  #modification sur A\n",
    "\n",
    "print(\"La matrice B  est :\")\n",
    "show(B)\n",
    "print(\"La matrice A  est :\")\n",
    "show(A)"
   ]
  },
  {
   "cell_type": "code",
   "execution_count": 31,
   "metadata": {},
   "outputs": [
    {
     "ename": "NameError",
     "evalue": "name 'BA' is not defined",
     "output_type": "error",
     "traceback": [
      "\u001b[0;31m---------------------------------------------------------------------------\u001b[0m",
      "\u001b[0;31mNameError\u001b[0m                                 Traceback (most recent call last)",
      "\u001b[0;32m<ipython-input-31-5e328fa69c2f>\u001b[0m in \u001b[0;36m<module>\u001b[0;34m()\u001b[0m\n\u001b[1;32m      3\u001b[0m \u001b[0mu\u001b[0m\u001b[0;34m=\u001b[0m\u001b[0mmatrix\u001b[0m\u001b[0;34m(\u001b[0m\u001b[0mInteger\u001b[0m\u001b[0;34m(\u001b[0m\u001b[0;36m3\u001b[0m\u001b[0;34m)\u001b[0m\u001b[0;34m,\u001b[0m\u001b[0mInteger\u001b[0m\u001b[0;34m(\u001b[0m\u001b[0;36m1\u001b[0m\u001b[0;34m)\u001b[0m\u001b[0;34m,\u001b[0m\u001b[0;34m[\u001b[0m\u001b[0;34m[\u001b[0m\u001b[0mInteger\u001b[0m\u001b[0;34m(\u001b[0m\u001b[0;36m1\u001b[0m\u001b[0;34m)\u001b[0m\u001b[0;34m]\u001b[0m\u001b[0;34m,\u001b[0m\u001b[0;34m[\u001b[0m\u001b[0mx\u001b[0m\u001b[0;34m]\u001b[0m\u001b[0;34m,\u001b[0m\u001b[0;34m[\u001b[0m\u001b[0mx\u001b[0m\u001b[0;34m**\u001b[0m\u001b[0mInteger\u001b[0m\u001b[0;34m(\u001b[0m\u001b[0;36m2\u001b[0m\u001b[0;34m)\u001b[0m\u001b[0;34m]\u001b[0m\u001b[0;34m]\u001b[0m\u001b[0;34m)\u001b[0m\u001b[0;34m\u001b[0m\u001b[0;34m\u001b[0m\u001b[0m\n\u001b[1;32m      4\u001b[0m \u001b[0mv\u001b[0m\u001b[0;34m=\u001b[0m\u001b[0mmatrix\u001b[0m\u001b[0;34m(\u001b[0m\u001b[0mInteger\u001b[0m\u001b[0;34m(\u001b[0m\u001b[0;36m3\u001b[0m\u001b[0;34m)\u001b[0m\u001b[0;34m,\u001b[0m\u001b[0mInteger\u001b[0m\u001b[0;34m(\u001b[0m\u001b[0;36m1\u001b[0m\u001b[0;34m)\u001b[0m\u001b[0;34m,\u001b[0m\u001b[0;34m[\u001b[0m\u001b[0;34m[\u001b[0m\u001b[0mInteger\u001b[0m\u001b[0;34m(\u001b[0m\u001b[0;36m1\u001b[0m\u001b[0;34m)\u001b[0m\u001b[0;34m]\u001b[0m\u001b[0;34m,\u001b[0m\u001b[0;34m[\u001b[0m\u001b[0mInteger\u001b[0m\u001b[0;34m(\u001b[0m\u001b[0;36m0\u001b[0m\u001b[0;34m)\u001b[0m\u001b[0;34m]\u001b[0m\u001b[0;34m,\u001b[0m\u001b[0;34m[\u001b[0m\u001b[0mInteger\u001b[0m\u001b[0;34m(\u001b[0m\u001b[0;36m1\u001b[0m\u001b[0;34m)\u001b[0m\u001b[0;34m]\u001b[0m\u001b[0;34m]\u001b[0m\u001b[0;34m)\u001b[0m\u001b[0;34m\u001b[0m\u001b[0;34m\u001b[0m\u001b[0m\n\u001b[0;32m----> 5\u001b[0;31m \u001b[0mshow\u001b[0m\u001b[0;34m(\u001b[0m\u001b[0mBA\u001b[0m\u001b[0;34m)\u001b[0m\u001b[0;34m\u001b[0m\u001b[0;34m\u001b[0m\u001b[0m\n\u001b[0m\u001b[1;32m      6\u001b[0m \u001b[0mshow\u001b[0m\u001b[0;34m(\u001b[0m\u001b[0mAu\u001b[0m\u001b[0;34m)\u001b[0m\u001b[0;34m\u001b[0m\u001b[0;34m\u001b[0m\u001b[0m\n\u001b[1;32m      7\u001b[0m \u001b[0mshow\u001b[0m\u001b[0;34m(\u001b[0m\u001b[0mAv\u001b[0m\u001b[0;34m)\u001b[0m\u001b[0;34m\u001b[0m\u001b[0;34m\u001b[0m\u001b[0m\n",
      "\u001b[0;31mNameError\u001b[0m: name 'BA' is not defined"
     ]
    }
   ],
   "source": []
  },
  {
   "cell_type": "markdown",
   "metadata": {},
   "source": [
    "<p><span style=\"text-decoration: underline;\">EXERCICE 1&nbsp;</span></p>\n",
    "<p>Soit les matrices :</p>\n",
    "<p>$$A=\\left[\\begin{matrix}1 & 2 & 3\\\\ -1 & 0 & 1 \\\\ 0 & 1 & 0\\\\ \\end{matrix}\\right], \\quad B=\\left[\\begin{matrix}2 & -1 & 0 \\\\ -1 & 0 & 1 \\\\ \\end{matrix}\\right], \\quad u=\\left[\\begin{matrix}1 \\\\ x \\\\x^2 \\end{matrix}\\right] , \\quad \\quad v=\\left[\\begin{matrix}1 \\\\ 0 \\\\ 1\\\\\\end{matrix}\\right]$$</p>\n",
    "<ol>\n",
    "<li>Calculer tous les produits possibles &agrave; partir de $A$, $B$,$u$, $v$.</li>\n",
    "<li>Calculer $(A-I)^7$ et en extraire le coefficient en position $(2,3)$.</li>\n",
    "<li>Calculer $A^{-1}$.</li>\n",
    "</ol>"
   ]
  },
  {
   "cell_type": "code",
   "execution_count": 40,
   "metadata": {},
   "outputs": [
    {
     "data": {
      "text/html": [
       "<html><script type=\"math/tex; mode=display\">\\newcommand{\\Bold}[1]{\\mathbf{#1}}\\left(\\begin{array}{rrr}\n",
       "3 & 4 & 5 \\\\\n",
       "-1 & -1 & -3\n",
       "\\end{array}\\right)</script></html>"
      ],
      "text/plain": [
       "[ 3  4  5]\n",
       "[-1 -1 -3]"
      ]
     },
     "metadata": {},
     "output_type": "display_data"
    },
    {
     "data": {
      "text/html": [
       "<html><script type=\"math/tex; mode=display\">\\newcommand{\\Bold}[1]{\\mathbf{#1}}\\left(\\begin{array}{r}\n",
       "3 \\, x^{2} + 2 \\, x + 1 \\\\\n",
       "x^{2} - 1 \\\\\n",
       "x\n",
       "\\end{array}\\right)</script></html>"
      ],
      "text/plain": [
       "[3*x^2 + 2*x + 1]\n",
       "[        x^2 - 1]\n",
       "[              x]"
      ]
     },
     "metadata": {},
     "output_type": "display_data"
    },
    {
     "data": {
      "text/html": [
       "<html><script type=\"math/tex; mode=display\">\\newcommand{\\Bold}[1]{\\mathbf{#1}}\\left(\\begin{array}{r}\n",
       "4 \\\\\n",
       "0 \\\\\n",
       "0\n",
       "\\end{array}\\right)</script></html>"
      ],
      "text/plain": [
       "[4]\n",
       "[0]\n",
       "[0]"
      ]
     },
     "metadata": {},
     "output_type": "display_data"
    },
    {
     "data": {
      "text/html": [
       "<html><script type=\"math/tex; mode=display\">\\newcommand{\\Bold}[1]{\\mathbf{#1}}\\left(\\begin{array}{r}\n",
       "-x + 2 \\\\\n",
       "x^{2} - 1\n",
       "\\end{array}\\right)</script></html>"
      ],
      "text/plain": [
       "[ -x + 2]\n",
       "[x^2 - 1]"
      ]
     },
     "metadata": {},
     "output_type": "display_data"
    },
    {
     "data": {
      "text/html": [
       "<html><script type=\"math/tex; mode=display\">\\newcommand{\\Bold}[1]{\\mathbf{#1}}\\left(\\begin{array}{r}\n",
       "2 \\\\\n",
       "0\n",
       "\\end{array}\\right)</script></html>"
      ],
      "text/plain": [
       "[2]\n",
       "[0]"
      ]
     },
     "metadata": {},
     "output_type": "display_data"
    }
   ],
   "source": [
    "A=matrix(3,3,[[1,2,3],[-1,0,1],[0,1,0]])\n",
    "B=matrix(2,3,[[2,-1,0],[-1,0,1]])\n",
    "u=matrix(3,1,[[1],[x],[x^2]])\n",
    "v=matrix(3,1,[[1],[0],[1]])\n",
    "\n",
    "show(B*A)\n",
    "show(A*u)\n",
    "show(A*v)\n",
    "show(B*u)\n",
    "show(B*v)\n",
    "\n"
   ]
  },
  {
   "cell_type": "code",
   "execution_count": 41,
   "metadata": {},
   "outputs": [
    {
     "data": {
      "text/html": [
       "<html><script type=\"math/tex; mode=display\">\\newcommand{\\Bold}[1]{\\mathbf{#1}}\\left(\\begin{array}{rrr}\n",
       "-16 & -46 & 11 \\\\\n",
       "-25 & -73 & 153 \\\\\n",
       "32 & 57 & -137\n",
       "\\end{array}\\right)</script></html>"
      ],
      "text/plain": [
       "[ -16  -46   11]\n",
       "[ -25  -73  153]\n",
       "[  32   57 -137]"
      ]
     },
     "metadata": {},
     "output_type": "display_data"
    },
    {
     "data": {
      "text/html": [
       "<html><script type=\"math/tex; mode=display\">\\newcommand{\\Bold}[1]{\\mathbf{#1}}153</script></html>"
      ],
      "text/plain": [
       "153"
      ]
     },
     "metadata": {},
     "output_type": "display_data"
    }
   ],
   "source": [
    "A=matrix(3,3,[[1,2,3],[-1,0,1],[0,1,0]])\n",
    "I=identity_matrix(3)\n",
    "B=matrix(A-I)^7\n",
    "show(B)\n",
    "show(B[1,2])\n"
   ]
  },
  {
   "cell_type": "code",
   "execution_count": 42,
   "metadata": {},
   "outputs": [
    {
     "data": {
      "text/html": [
       "<html><script type=\"math/tex; mode=display\">\\newcommand{\\Bold}[1]{\\mathbf{#1}}\\left(\\begin{array}{rrr}\n",
       "\\frac{1}{4} & -\\frac{3}{4} & -\\frac{1}{2} \\\\\n",
       "0 & 0 & 1 \\\\\n",
       "\\frac{1}{4} & \\frac{1}{4} & -\\frac{1}{2}\n",
       "\\end{array}\\right)</script></html>"
      ],
      "text/plain": [
       "[ 1/4 -3/4 -1/2]\n",
       "[   0    0    1]\n",
       "[ 1/4  1/4 -1/2]"
      ]
     },
     "metadata": {},
     "output_type": "display_data"
    }
   ],
   "source": [
    "A=matrix(3,3,[[1,2,3],[-1,0,1],[0,1,0]])\n",
    "show(A^-1)"
   ]
  },
  {
   "cell_type": "markdown",
   "metadata": {},
   "source": [
    "<p><span style=\"text-decoration: underline;\">EXERCICE 2</span></p>\n",
    "<p>Calculer le d&eacute;terminant des matrices suivantes :</p>\n",
    "<p>$$A=\\left[\\begin{matrix} -11 & 3 \\\\ 1 & 0\\\\ \\end{matrix}\\right], \\quad B=\\left[\\begin{matrix}10 & 0 & -5 & 15\\\\-2 & 7 & 3 & 0\\\\8 & 14 & 0 & 2\\\\0 & -21 & 1 & -1\\\\\\end{matrix}\\right], \\quad C=\\left[\\begin{matrix}m & 0 & 1 & 2m\\\\1 & m & 0 & 0\\\\0 & 2m+2 & m & 1\\\\m & 0 & 0 & m\\\\\\end{matrix}\\right]$$</p>"
   ]
  },
  {
   "cell_type": "code",
   "execution_count": 34,
   "metadata": {},
   "outputs": [
    {
     "name": "stdout",
     "output_type": "stream",
     "text": [
      "Det A\n"
     ]
    },
    {
     "data": {
      "text/html": [
       "<html><script type=\"math/tex; mode=display\">\\newcommand{\\Bold}[1]{\\mathbf{#1}}-3</script></html>"
      ],
      "text/plain": [
       "-3"
      ]
     },
     "metadata": {},
     "output_type": "display_data"
    },
    {
     "name": "stdout",
     "output_type": "stream",
     "text": [
      "Det B\n"
     ]
    },
    {
     "data": {
      "text/html": [
       "<html><script type=\"math/tex; mode=display\">\\newcommand{\\Bold}[1]{\\mathbf{#1}}7840</script></html>"
      ],
      "text/plain": [
       "7840"
      ]
     },
     "metadata": {},
     "output_type": "display_data"
    },
    {
     "name": "stdout",
     "output_type": "stream",
     "text": [
      "Det C\n"
     ]
    },
    {
     "data": {
      "text/html": [
       "<html><script type=\"math/tex; mode=display\">\\newcommand{\\Bold}[1]{\\mathbf{#1}}-m^{4} + 3 \\, m^{2} + 2 \\, m</script></html>"
      ],
      "text/plain": [
       "-m^4 + 3*m^2 + 2*m"
      ]
     },
     "metadata": {},
     "output_type": "display_data"
    }
   ],
   "source": [
    "m = var('m')\n",
    "A = matrix([[-11, 3],[1, 0]])\n",
    "B = matrix([[10,0,-5,15],[-2,7,3,0],[8,14,0,2],[0,-21,1,1]])\n",
    "C = matrix([[m,0,1,2*m],[1,m,0,0],[0,2*m+2,m,1],[m,0,0,m]])\n",
    "\n",
    "\n",
    "print(\"Det A\")\n",
    "show(A.det())\n",
    "print(\"Det B\")\n",
    "show(B.det())\n",
    "print(\"Det C\")\n",
    "show(C.det())"
   ]
  },
  {
   "cell_type": "markdown",
   "metadata": {},
   "source": [
    "<p><span style=\"text-decoration: underline;\">EXERCICE 3</span></p>\n",
    "<p>Construire, de mani&egrave;re judicieuse, les matrices suivantes :</p>\n",
    "<p>&nbsp;</p>\n",
    "<p>$$A=\\left[\\begin{matrix}1 & 0 & 0 & 0 & 0 & 0 & 0\\\\0 & 2 & 0 & 0 & 0 & 0 & 0\\\\0 & 0 & 3 & 0 & 0 & 0 & 0\\\\0 & 0 & 0 & 4 & 0 & 0 & 0\\\\0 & 0 & 0 & 0 & 5 & 0 & 0\\\\0 & 0 & 0 & 0 & 0 & 6 & 0\\\\0 & 0 & 0 & 0 & 0 & 0 & 7\\\\\\end{matrix}\\right], \\quad B=\\left[\\begin{matrix} 1 & 0 & 0 & 0 & 0 & 0 & 0 & 0 & 0 \\\\1 & 0 & 0 & 0 & 0 & 0 & 0 & 0& 0 \\\\ 1 & 0 & 0 & 0 & 0 & 0 & 0 & 0& 0 \\\\1 & 0 & 0 & 0 & 0 & 0 & 0 & 0& 0 \\\\\\end{matrix}\\right], \\quad C=\\left[\\begin{matrix}2 & 1 & -1 & -1 & -1 \\\\2 & 2 & -1 & -1 & -1 \\\\2 & 3 & -1 & -1 & -1 \\\\\\end{matrix}\\right]$$</p>\n",
    "<p>&nbsp;</p>\n",
    "<p>&nbsp;</p>\n",
    "<p><em>Suggestion : voir&nbsp;<span>diagonal_matrix</span>, par exemple ou avec des boucles ou help(matrix)</em></p>"
   ]
  },
  {
   "cell_type": "code",
   "execution_count": 5,
   "metadata": {},
   "outputs": [
    {
     "name": "stdout",
     "output_type": "stream",
     "text": [
      "A :\n"
     ]
    },
    {
     "data": {
      "text/html": [
       "<html><script type=\"math/tex; mode=display\">\\newcommand{\\Bold}[1]{\\mathbf{#1}}\\left(\\begin{array}{rrrrrrr}\n",
       "1 & 0 & 0 & 0 & 0 & 0 & 0 \\\\\n",
       "0 & 2 & 0 & 0 & 0 & 0 & 0 \\\\\n",
       "0 & 0 & 3 & 0 & 0 & 0 & 0 \\\\\n",
       "0 & 0 & 0 & 4 & 0 & 0 & 0 \\\\\n",
       "0 & 0 & 0 & 0 & 5 & 0 & 0 \\\\\n",
       "0 & 0 & 0 & 0 & 0 & 6 & 0 \\\\\n",
       "0 & 0 & 0 & 0 & 0 & 0 & 7\n",
       "\\end{array}\\right)</script></html>"
      ],
      "text/plain": [
       "[1 0 0 0 0 0 0]\n",
       "[0 2 0 0 0 0 0]\n",
       "[0 0 3 0 0 0 0]\n",
       "[0 0 0 4 0 0 0]\n",
       "[0 0 0 0 5 0 0]\n",
       "[0 0 0 0 0 6 0]\n",
       "[0 0 0 0 0 0 7]"
      ]
     },
     "metadata": {},
     "output_type": "display_data"
    },
    {
     "name": "stdout",
     "output_type": "stream",
     "text": [
      "B :\n"
     ]
    },
    {
     "data": {
      "text/html": [
       "<html><script type=\"math/tex; mode=display\">\\newcommand{\\Bold}[1]{\\mathbf{#1}}\\left(\\begin{array}{rrrrrrrrr}\n",
       "1 & 0 & 0 & 0 & 0 & 0 & 0 & 0 & 0 \\\\\n",
       "1 & 0 & 0 & 0 & 0 & 0 & 0 & 0 & 0 \\\\\n",
       "1 & 0 & 0 & 0 & 0 & 0 & 0 & 0 & 0 \\\\\n",
       "1 & 0 & 0 & 0 & 0 & 0 & 0 & 0 & 0\n",
       "\\end{array}\\right)</script></html>"
      ],
      "text/plain": [
       "[1 0 0 0 0 0 0 0 0]\n",
       "[1 0 0 0 0 0 0 0 0]\n",
       "[1 0 0 0 0 0 0 0 0]\n",
       "[1 0 0 0 0 0 0 0 0]"
      ]
     },
     "metadata": {},
     "output_type": "display_data"
    },
    {
     "name": "stdout",
     "output_type": "stream",
     "text": [
      "C :\n"
     ]
    },
    {
     "data": {
      "text/html": [
       "<html><script type=\"math/tex; mode=display\">\\newcommand{\\Bold}[1]{\\mathbf{#1}}\\left(\\begin{array}{rrrrr}\n",
       "2 & 1 & -1 & -1 & -1 \\\\\n",
       "2 & 2 & -1 & -1 & -1 \\\\\n",
       "2 & 3 & -1 & -1 & -1\n",
       "\\end{array}\\right)</script></html>"
      ],
      "text/plain": [
       "[ 2  1 -1 -1 -1]\n",
       "[ 2  2 -1 -1 -1]\n",
       "[ 2  3 -1 -1 -1]"
      ]
     },
     "metadata": {},
     "output_type": "display_data"
    }
   ],
   "source": [
    "A = diagonal_matrix([1,2,3,4,5,6,7])\n",
    "print(\"A :\")\n",
    "\n",
    "show(A)\n",
    "\n",
    "B = matrix(4,9,0)\n",
    "for i in range (4):\n",
    " B[i,0]=1\n",
    "\n",
    "print(\"B :\")\n",
    "show(B)\n",
    "\n",
    "C = matrix(3,5,0)\n",
    "\n",
    "for i in range(3):\n",
    "    for j in range(5):\n",
    "        C[i,j]=-1;\n",
    "        \n",
    "for i in range(3):\n",
    "    C[i,0]=2;\n",
    "    \n",
    "for i in range(1,4):\n",
    "    C[i-1,1]=i;\n",
    "    \n",
    "print(\"C :\")\n",
    "show(C)"
   ]
  },
  {
   "cell_type": "markdown",
   "metadata": {},
   "source": [
    "<p><span style=\"text-decoration: underline;\">EXERCICE 4&nbsp;</span></p>\n",
    "<p>D&eacute;finir votre propre function \"produit de deux matrices\".</p>\n",
    "<p>Elle s'appellera&nbsp;<span><span style=\"font-family: 'courier new', courier;\"><strong>prod_M</strong></span>,</span>&nbsp;elle prendra en entr&eacute;e deux matrices $(A, B)$ et elle retournera le produit $(A \\cdot B )$.</p>\n",
    "<p><em>Commentez votre code en expliquant ce que vous implementez!</em></p>\n",
    "<p>&nbsp;</p>\n",
    "<p>Tester votre fonction pour les produits $A\\cdot B$, $B\\cdot A$, $B\\cdot C$ et $C\\cdot B$, o&ugrave;&nbsp;$A,B,C$ sont les matrices suivantes :</p>\n",
    "<p>&nbsp;</p>\n",
    "<p> $$A=\\left[\\begin{matrix}1 & -1&  1\\\\2 & 1 & 3\\\\0 & 2 & 0\\\\\\end{matrix}\\right], \\quad B=\\left[\\begin{matrix}-1 & 0&  2\\\\ 0 & 1&  1\\\\ -1 & 1&  1\\\\ \\end{matrix}\\right], \\quad C=\\left[\\begin{matrix}1 & 3 \\\\2 & 4 \\\\ 0 & 1 \\\\\\end{matrix}\\right]$$</p>\n",
    "<p>V&eacute;rifier vos calculs avec le produit de matrices de Phyton.</p>"
   ]
  },
  {
   "cell_type": "code",
   "execution_count": 8,
   "metadata": {},
   "outputs": [
    {
     "name": "stdout",
     "output_type": "stream",
     "text": [
      "[-2  0  2]\n",
      "[-5  4  8]\n",
      "[ 0  2  2]\n"
     ]
    },
    {
     "data": {
      "text/html": [
       "<html><script type=\"math/tex; mode=display\">\\newcommand{\\Bold}[1]{\\mathbf{#1}}\\left(\\begin{array}{rrr}\n",
       "-2 & 0 & 2 \\\\\n",
       "-5 & 4 & 8 \\\\\n",
       "0 & 2 & 2\n",
       "\\end{array}\\right)</script></html>"
      ],
      "text/plain": [
       "[-2  0  2]\n",
       "[-5  4  8]\n",
       "[ 0  2  2]"
      ]
     },
     "metadata": {},
     "output_type": "display_data"
    },
    {
     "name": "stdout",
     "output_type": "stream",
     "text": [
      "[-1  5 -1]\n",
      "[ 2  3  3]\n",
      "[ 1  4  2]\n"
     ]
    },
    {
     "data": {
      "text/html": [
       "<html><script type=\"math/tex; mode=display\">\\newcommand{\\Bold}[1]{\\mathbf{#1}}\\left(\\begin{array}{rrr}\n",
       "-1 & 5 & -1 \\\\\n",
       "2 & 3 & 3 \\\\\n",
       "1 & 4 & 2\n",
       "\\end{array}\\right)</script></html>"
      ],
      "text/plain": [
       "[-1  5 -1]\n",
       "[ 2  3  3]\n",
       "[ 1  4  2]"
      ]
     },
     "metadata": {},
     "output_type": "display_data"
    },
    {
     "name": "stdout",
     "output_type": "stream",
     "text": [
      "Pas possible\n"
     ]
    },
    {
     "data": {
      "text/html": [
       "<html><script type=\"math/tex; mode=display\">\\newcommand{\\Bold}[1]{\\mathbf{#1}}\\mathrm{None}</script></html>"
      ],
      "text/plain": [
       "None"
      ]
     },
     "metadata": {},
     "output_type": "display_data"
    },
    {
     "name": "stdout",
     "output_type": "stream",
     "text": [
      "[-1 -1]\n",
      "[ 2  5]\n",
      "[ 1  2]\n"
     ]
    },
    {
     "data": {
      "text/html": [
       "<html><script type=\"math/tex; mode=display\">\\newcommand{\\Bold}[1]{\\mathbf{#1}}\\left(\\begin{array}{rr}\n",
       "-1 & -1 \\\\\n",
       "2 & 5 \\\\\n",
       "1 & 2\n",
       "\\end{array}\\right)</script></html>"
      ],
      "text/plain": [
       "[-1 -1]\n",
       "[ 2  5]\n",
       "[ 1  2]"
      ]
     },
     "metadata": {},
     "output_type": "display_data"
    }
   ],
   "source": [
    "def prod_m(A,B):\n",
    "    Acols=A.ncols()\n",
    "    Brows=B.nrows()\n",
    "    Arows=A.nrows()\n",
    "    Bcols=B.ncols()\n",
    "    if Acols == Brows:\n",
    "        \n",
    "        C=matrix(Arows,Bcols)\n",
    "        for i in range (Arows):\n",
    "            \n",
    "            for j in range (Bcols):\n",
    "                s=0\n",
    "                for k in range (Acols):\n",
    "                    s+=A[i,k]*B[k,j]\n",
    "                C[i,j]=s\n",
    "        print(A*B)\n",
    "        return C\n",
    "\n",
    "    else :\n",
    "        print(\"Pas possible\")\n",
    "        \n",
    "A=matrix(3,3,[[1,-1,1],[2,1,3],[0,2,0]])\n",
    "B=matrix(3,3,[[-1,0,2],[0,1,1],[-1,1,1]])\n",
    "C=matrix(3,2,[[1,3],[2,4],[0,1]])\n",
    "show(prod_m(A,B))\n",
    "show(prod_m(B,A))\n",
    "show(prod_m(C,B))\n",
    "show(prod_m(B,C))"
   ]
  },
  {
   "cell_type": "markdown",
   "metadata": {},
   "source": [
    "<p><span style=\"text-decoration: underline;\">EXERCICE 5&nbsp;</span></p>\n",
    "Les matrices peuvent être utilisées pour représenter des <a href=https://fr.wikipedia.org/wiki/Image_matricielle>images matricielles</a>.\n",
    "\n",
    "Avec Sagemath, nous pouvons utiliser les matrices comme des objets graphiques en utilsant la commande <b>matrix_plot</b>.\n",
    "\n",
    "Cette commande permet d'associer à chaque élément de la matrice une couleur. \n",
    "Par defaut l'echelle est en noir et blanc.\n",
    "\n",
    "Voir help(matrix_plot) pour les différentes options.\n",
    "\n"
   ]
  },
  {
   "cell_type": "code",
   "execution_count": 6,
   "metadata": {},
   "outputs": [
    {
     "data": {
      "image/png": "[encoded data removed]",
      "text/plain": [
       "Graphics object consisting of 1 graphics primitive"
      ]
     },
     "execution_count": 6,
     "metadata": {},
     "output_type": "execute_result"
    }
   ],
   "source": [
    "#EXEMPLE \n",
    "M = matrix(2,[0,0.3,0.6,1])\n",
    "                                 \n",
    "matrix_plot(M, colorbar=True)"
   ]
  },
  {
   "cell_type": "markdown",
   "metadata": {},
   "source": [
    "En utilisant cette commande et les opérations sur les matrices, reproduire les quatres figures suivantes :\n",
    "<img src=\"m10.png\">\n",
    "<img src=\"m10_2.png\">\n",
    "<img src=\"m100.png\">\n",
    "<img src=\"m100_2.png\">\n"
   ]
  },
  {
   "cell_type": "code",
   "execution_count": 22,
   "metadata": {},
   "outputs": [
    {
     "name": "stdout",
     "output_type": "stream",
     "text": [
      "Matrice :\n"
     ]
    },
    {
     "data": {
      "image/png": "[encoded data removed]",
      "text/plain": [
       "Graphics object consisting of 1 graphics primitive"
      ]
     },
     "execution_count": 22,
     "metadata": {},
     "output_type": "execute_result"
    }
   ],
   "source": [
    "def matrice():\n",
    "    global matriceRandomName \n",
    "    matriceRandomName = matrix(RR,size,size,0)\n",
    "\n",
    "\n",
    "def run():\n",
    "    [pattern(i,j) for j in range(size) for i in range(size)]\n",
    "\n",
    "\n",
    "def main():\n",
    "    print(\"Matrice :\")\n",
    "    matrice()\n",
    "    run()\n",
    "\n",
    "# ou alors matrix(RR,10,10, lamba x,y : (x+y)/18)"
   ]
  },
  {
   "cell_type": "code",
   "execution_count": 47,
   "metadata": {},
   "outputs": [
    {
     "name": "stdout",
     "output_type": "stream",
     "text": [
      "Matrice :\n"
     ]
    },
    {
     "data": {
      "image/png": "[encoded data removed]",
      "text/plain": [
       "Graphics object consisting of 1 graphics primitive"
      ]
     },
     "execution_count": 47,
     "metadata": {},
     "output_type": "execute_result"
    }
   ],
   "source": [
    "size = 10\n",
    "def pattern(i,j):\n",
    "    matriceRandomName[i,j]=((i+j)/18)\n",
    "\n",
    "main()\n",
    "matrix_plot(matriceRandomName, colorbar=True)\n"
   ]
  },
  {
   "cell_type": "code",
   "execution_count": 23,
   "metadata": {},
   "outputs": [
    {
     "name": "stdout",
     "output_type": "stream",
     "text": [
      "Matrice :\n"
     ]
    },
    {
     "data": {
      "image/png": "[encoded data removed]",
      "text/plain": [
       "Graphics object consisting of 1 graphics primitive"
      ]
     },
     "execution_count": 23,
     "metadata": {},
     "output_type": "execute_result"
    }
   ],
   "source": [
    "size = 100\n",
    "\n",
    "    \n",
    "main()\n",
    "matrix_plot(matriceRandomName, colorbar=True)\n"
   ]
  },
  {
   "cell_type": "code",
   "execution_count": 53,
   "metadata": {},
   "outputs": [
    {
     "name": "stdout",
     "output_type": "stream",
     "text": [
      "Matrice :\n"
     ]
    },
    {
     "data": {
      "image/png": "[encoded data removed]",
      "text/plain": [
       "Graphics object consisting of 1 graphics primitive"
      ]
     },
     "execution_count": 53,
     "metadata": {},
     "output_type": "execute_result"
    }
   ],
   "source": [
    "size = 10\n",
    "\n",
    "def pattern(i,j):\n",
    "    matriceRandomName[i,j]=abs(i-j)/9\n",
    "    \n",
    "main()\n",
    "matrix_plot(matriceRandomName, colorbar=True)\n",
    "# ou alors matrix(RR,10,10, lamba x,y : abs(x-y)/9)"
   ]
  },
  {
   "cell_type": "code",
   "execution_count": 20,
   "metadata": {},
   "outputs": [
    {
     "name": "stdout",
     "output_type": "stream",
     "text": [
      "Matrice :\n"
     ]
    },
    {
     "data": {
      "image/png": "[encoded data removed]",
      "text/plain": [
       "Graphics object consisting of 1 graphics primitive"
      ]
     },
     "execution_count": 20,
     "metadata": {},
     "output_type": "execute_result"
    }
   ],
   "source": [
    "size = 100\n",
    "\n",
    "    \n",
    "main()\n",
    "matrix_plot(matriceRandomName, colorbar=True)"
   ]
  },
  {
   "cell_type": "markdown",
   "metadata": {},
   "source": [
    "<p><span style=\"text-decoration: underline;\">EXERCICE 6&nbsp;</span></p>\n",
    "Nous pouvons considérer des transformations des images comme opérateurs sur les matrices.\n",
    "\n",
    "Considérer les deux images $A$ et $B$ suivantes : \n",
    "\n",
    "<img src=\"A.png\">\n",
    "<img src=\"B.png\">\n",
    "\n",
    "Vous aller effectuer un \"<a href=https://fr.wikipedia.org/wiki/Morphing>morphing</a>\" d'images.\n",
    "\n",
    "\n",
    "Déterminer et visualiser les matrices $C$ obtenues en se baladant sur le segment $(1 - t) A + t B$, avec $t\\in[0,1]$.\n",
    "\n",
    "\n"
   ]
  },
  {
   "cell_type": "code",
   "execution_count": 49,
   "metadata": {},
   "outputs": [
    {
     "name": "stdout",
     "output_type": "stream",
     "text": [
      "Matrice :\n"
     ]
    },
    {
     "data": {
      "image/png": "[encoded data removed]",
      "text/plain": [
       "Graphics object consisting of 1 graphics primitive"
      ]
     },
     "execution_count": 49,
     "metadata": {},
     "output_type": "execute_result"
    }
   ],
   "source": [
    "size = 10\n",
    "\n",
    "def pattern(i,j):\n",
    "    if(i>=j):\n",
    "        matriceRandomName[9-i,j]=1-abs(i-j)/9\n",
    "    else:\n",
    "        matriceRandomName[9-i,j]=1\n",
    "    \n",
    "main()\n",
    "matrix_plot(matriceRandomName, colorbar=True)"
   ]
  },
  {
   "cell_type": "code",
   "execution_count": 44,
   "metadata": {},
   "outputs": [
    {
     "name": "stdout",
     "output_type": "stream",
     "text": [
      "Matrice :\n"
     ]
    },
    {
     "data": {
      "image/png": "[encoded data removed]",
      "text/plain": [
       "Graphics object consisting of 1 graphics primitive"
      ]
     },
     "execution_count": 44,
     "metadata": {},
     "output_type": "execute_result"
    }
   ],
   "source": [
    "size = 10\n",
    "\n",
    "def pattern(i,j):\n",
    "    matriceRandomName[i,j]=abs(i-j)/9\n",
    "    if(j>i):\n",
    "        matriceRandomName[i,j]=0\n",
    "    \n",
    "main()\n",
    "matrix_plot(matriceRandomName, colorbar=True)"
   ]
  },
  {
   "cell_type": "markdown",
   "metadata": {},
   "source": [
    "<p><span style=\"text-decoration: underline;\">EXERCICE 7&nbsp;</span></p>\n",
    "Amusez-vous avec la commande <b>matrix_plot</b> pour obtenir des jolies figures, même en couleurs.\n",
    "\n",
    "Inspirez-vous des <a href=\"https://www.google.com/search?q=pixel+art&tbm=isch&ved=2ahUKEwiPtIvlxe3nAhUO_IUKHUhzBzcQ2-cCegQIABAA&oq=pixel&gs_l=img.1.0.0i67l10.16537.16537..17882...0.0..0.51.51.1......0....1..gws-wiz-img.o9OHrP0JPx0&ei=84NVXs9ujviXBMjmnbgD%3E\" target=\"_blank\">\"pixel art\"</a> ou encore mieux, de <a href=\"https://www.google.com/search?q=pixel+pixar+art&tbm=isch&ved=2ahUKEwih6oOoye3nAhUJ9BoKHW_KAy8Q2-cCegQIABAA&oq=pixel+pixar+art&gs_l=img.3..35i39j0i8i30l4.13473.13859..14268...0.0..0.50.185.4......0....1..gws-wiz-img.......0i30.DcVgza15C1Q&ei=pIdVXqGIK4noa--Uj_gC\" target=\"_blank\">\"Pixar pixel art\"</a> ou utilisez votre fantaisie ! \n",
    "\n",
    "Nous publierons sur les reseaux sociaux de l'ISEN, et aussi aux journées portes ouvertes, vos plus belles représentations!"
   ]
  },
  {
   "cell_type": "code",
   "execution_count": 2,
   "metadata": {},
   "outputs": [
    {
     "data": {
      "image/png": "[encoded data removed]",
      "text/plain": [
       "Graphics object consisting of 1 graphics primitive"
      ]
     },
     "execution_count": 2,
     "metadata": {},
     "output_type": "execute_result"
    }
   ],
   "source": [
    "osu = matrix(RR,351,301,0)\n",
    "\n",
    "def cirlce(i,j):\n",
    "    radius= round(sqrt(((50-i)**2)+((50-j)**2)),0)\n",
    "    if(radius==50):\n",
    "        osu[i,j]=1\n",
    "        osu[i+200,j+200]=1\n",
    "    if(radius<50):\n",
    "        osu[i,j]=0.5\n",
    "        osu[i+200,j+200]=0.5\n",
    "\n",
    "\n",
    "def number1(i,j):\n",
    "    if (i>40 and i<45 and j>10 and j<40) or(j>22 and j<27 and i<45 and i>5) or (j+i<33 and j+i>27 and i>5 and i<22):\n",
    "        iD=i+22\n",
    "        jD=j+25\n",
    "        osu[iD,jD] = 0\n",
    "        \n",
    "def number2(i,j):\n",
    "    radius= round(sqrt(((16-i)**2)+((24-j)**2)),0)\n",
    "    if (i>40 and i<45 and j>10 and j<40) or (j+i<55 and j+i>48 and i>17 and i<45) or (radius<13 and radius>7 and i<18):\n",
    "        iT = i+222\n",
    "        jT = j+225\n",
    "        osu[iT,jT] = 0\n",
    "\n",
    "def followpoint(i,j):\n",
    "    if (i-j<55 and i-j>-2 and i-j<2):\n",
    "        osu[i+85,j+85] = 1\n",
    "\n",
    "def draw_s(i,j, x,y):\n",
    "    if (i>40 and i<44 and j>12 and j<35) or (i>8 and i<12 and j>12 and j<35) or (i>24 and i<28 and j>12 and j<35) or (i>11 and i<27 and j>12 and j<16) or (i>27 and i<44 and j>31 and j<35):\n",
    "        osu[i+x,j+y] = 1\n",
    " \n",
    "def draw_o(i,j,x,y):\n",
    "    if (i>40 and i<44 and j>12 and j<35) or (i>8 and i<12 and j>12 and j<35) or (i>11 and i<44 and j>12 and j<16) or (i>11 and i<44 and j>31 and j<35):\n",
    "        osu[i+x,j+y] = 1\n",
    "        \n",
    "def draw_t(i,j,x,y):\n",
    "    if (i>8 and i<12 and j>12 and j<35) or (i>11 and i<44 and j>21 and j<26):\n",
    "        osu[i+x,j+y] = 1\n",
    "        \n",
    "def draw_a(i,j,x,y):\n",
    "    if (i>24 and i<28 and j>12 and j<35) or (i>8 and i<12 and j>12 and j<35) or (i>11 and i<44 and j>12 and j<16) or (i>11 and i<44 and j>31 and j<35):\n",
    "        osu[i+x,j+y] = 1\n",
    "        \n",
    "def draw_r(i,j,x,y):\n",
    "    if (i>24 and i<28 and j>12 and j<35) or (i>8 and i<12 and j>12 and j<35) or (i>11 and i<44 and j>12 and j<16) or (i>11 and i<27 and j>31 and j<35) or (i-j<37 and i-j>8 and i-j<14 and i>27 and i<44):\n",
    "        osu[i+x,j+y] = 1\n",
    "\n",
    "def draw_k(i,j,x,y):\n",
    "    if (i>11 and i<44 and j>12 and j<16)  or (i-j<37 and i-j>8 and i-j<14 and i>27 and i<44) or (j+i<45 and j+i>39 and i>11 and i<28):\n",
    "        osu[i+x,j+y] = 1\n",
    "        \n",
    "def draw_u(i,j,x,y):\n",
    "    if (i>40 and i<44 and j>12 and j<35) or (i>11 and i<44 and j>11 and j<16) or (i>11 and i<44 and j>31 and j<35):\n",
    "        osu[i+x,j+y] = 1\n",
    "\n",
    "def draw_point(i,j,x,y):\n",
    "    if (i>8 and i<38 and j>21 and j<26) or (i>40 and i<45 and j>21 and j<26):\n",
    "        osu[i+x,j+y] = 1\n",
    "        \n",
    "        \n",
    "def run():\n",
    "    [cirlce(i,j) for j in range(101) for i in range(101)]\n",
    "    [number1(i,j) for j in range(50) for i in range(50)]\n",
    "    [number2(i,j) for j in range(50) for i in range(50)]\n",
    "    [followpoint(i,j) for j in range(130) for i in range(130)]\n",
    "    \n",
    "    [draw_s(i,j,300, 0) for j in range(50) for i in range(50)]\n",
    "    [draw_o(i,j,300, 25) for j in range(50) for i in range(50)]\n",
    "    [draw_t(i,j,300, 50) for j in range(50) for i in range(50)]\n",
    "    [draw_a(i,j,300, 75) for j in range(50) for i in range(50)]\n",
    "    [draw_r(i,j,300, 100) for j in range(50) for i in range(50)]\n",
    "    [draw_k(i,j,300, 125) for j in range(50) for i in range(50)]\n",
    "    [draw_s(i,j,300, 150) for j in range(50) for i in range(50)]\n",
    "    \n",
    "    \n",
    "    [draw_o(i,j,0, 135) for j in range(50) for i in range(50)]\n",
    "    [draw_s(i,j,0, 160) for j in range(50) for i in range(50)]\n",
    "    [draw_u(i,j,0, 185) for j in range(50) for i in range(50)]\n",
    "    [draw_point(i,j,0, 210) for j in range(50) for i in range(50)]\n",
    "\n",
    "\n",
    "    \n",
    "    \n",
    "run()\n",
    "matrix_plot(osu, cmap='RdPu',colorbar=True)"
   ]
  }
 ],
 "metadata": {
  "kernelspec": {
   "display_name": "SageMath 8.8",
   "language": "",
   "name": "sagemath"
  },
  "language_info": {
   "codemirror_mode": {
    "name": "ipython",
    "version": 3
   },
   "file_extension": ".py",
   "mimetype": "text/x-python",
   "name": "python",
   "nbconvert_exporter": "python",
   "pygments_lexer": "ipython3",
   "version": "3.7.4"
  }
 },
 "nbformat": 4,
 "nbformat_minor": 2
}
