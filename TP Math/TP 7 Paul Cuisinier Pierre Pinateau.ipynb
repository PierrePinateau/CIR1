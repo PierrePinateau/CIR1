{
 "cells": [
  {
   "cell_type": "markdown",
   "metadata": {},
   "source": [
    "<p><span style=\"font-size: large; background-color: #ffffff; color: #000000;\"><strong>Consignes :</strong></span></p>\n",
    "<ul>\n",
    "<li><span style=\"font-size: large; background-color: #ffffff; color: #000000;\"><strong><strong>Renommer ce fichier en ordre alphab&eacute;tique <span style=\"color: #ff0000;\">nom1-nom2-TP7</span></strong></strong></span></li>\n",
    "<li><span style=\"font-size: large; background-color: #ffffff; color: #000000;\"><strong><strong><strong>TP &agrave; rendre sur campus&nbsp;<span><span style=\"color: #ff0000;\">&agrave; la fin de la s&eacute;ance</span>.</span>&nbsp;</strong></strong></strong></span></li>\n",
    "<li><span style=\"font-size: large; background-color: #ffffff; color: #000000;\"><strong>TP &agrave; faire en groupe de 2. Le groupe de travail sera le m&ecirc;me pour toute l'ann&eacute;e.</strong></span></li>\n",
    "<li><span style=\"font-size: large; background-color: #ffffff; color: #ff0000;\"><span style=\"color: #000000;\"><strong>&Agrave; completer :</strong></span></span></li>\n",
    "</ul>\n",
    "<p><span style=\"font-size: large; background-color: #ffffff; color: #ff0000;\"><strong>NOM PRENOM 1 : Cuisinier Paul<br /></strong></span></p>\n",
    "<p><span style=\"font-size: large; background-color: #ffffff; color: #ff0000;\"><strong>NOM PRENOM 2 : Pinateau Pierre</strong></span></p>\n",
    "<p>&nbsp;</p>\n",
    "<p><br /><span style=\"font-size: large;\"><strong></strong><strong>TP 7 : Arithm&eacute;tique dans $\\mathbb{Z}$ et cryptographie<br /></strong></span></p>\n",
    "<p><span style=\"font-size: large;\"><strong><br style=\"font-size: medium;\" /></strong></span></p>\n",
    "<p>Certaines commandes utiles pour l'arithm&eacute;tique dans $\\mathbb{Z}$ :</p>\n",
    "<ul>\n",
    "<li>//</li>\n",
    "<li>%</li>\n",
    "<li>gcd(a,b)</li>\n",
    "</ul>\n",
    "<p class=\" CodeMirror-line sagews-output-cm-text\"><span><span style=\"text-decoration: underline;\">EXERCICE 1</span><br />Ecrire une fonction que vous allez appeler <strong>pgcd(a,b)</strong>&nbsp;qui returne le pgcd de deux nombres avec l'algorithme d'Euclide.<br />Tester votre fonction sur $3\\wedge1$,&nbsp;$3\\wedge0$,&nbsp;$3\\wedge3$ et&nbsp;$3\\wedge15$&nbsp;</span></p>"
   ]
  },
  {
   "cell_type": "code",
   "execution_count": 18,
   "metadata": {},
   "outputs": [
    {
     "name": "stdout",
     "output_type": "stream",
     "text": [
      "1\n",
      "3\n",
      "3\n",
      "3\n"
     ]
    }
   ],
   "source": [
    "def pgcd(a,b):\n",
    "    if b==0:\n",
    "        return a\n",
    "    else:\n",
    "        r=a%b\n",
    "        return pgcd(b,r)\n",
    " \n",
    "\n",
    "print(pgcd(3,1))\n",
    "print(pgcd(3,0))\n",
    "print(pgcd(3,3))\n",
    "print(pgcd(3,15))"
   ]
  },
  {
   "cell_type": "code",
   "execution_count": 5,
   "metadata": {},
   "outputs": [
    {
     "data": {
      "text/plain": [
       "3"
      ]
     },
     "execution_count": 5,
     "metadata": {},
     "output_type": "execute_result"
    }
   ],
   "source": []
  },
  {
   "cell_type": "code",
   "execution_count": null,
   "metadata": {},
   "outputs": [],
   "source": []
  },
  {
   "cell_type": "markdown",
   "metadata": {},
   "source": [
    "<p><span style=\"text-decoration: underline;\">EXERCICE 2</span><br />Ecrire une fonction de chiffrement que vous allez appeler <strong>cesar_chiffre_nb(x,k)</strong>&nbsp;qui prend en entr&eacute;e x un nombre, k le d&eacute;calage et qui returne le chiffrement.</p>\n",
    "<p>Ecrire une fonction de dechiffrement que vous allez appeler&nbsp;<strong>cesar_dechiffre_nb(x,k)</strong>&nbsp;qui prend en entr&eacute;e x un nombre, k le d&eacute;calage et qui returne le dechiffrement.</p>\n",
    "<p>Tester vos fonctions sur $x=1,3,50$&nbsp; avec $k=11,13$&nbsp;</p>"
   ]
  },
  {
   "cell_type": "code",
   "execution_count": null,
   "metadata": {
    "collapsed": true
   },
   "outputs": [],
   "source": []
  },
  {
   "cell_type": "markdown",
   "metadata": {},
   "source": [
    "<p><span style=\"text-decoration: underline;\"><strong>Pour chiffrer un mot ou une phrase :</strong></span></p>\n",
    "<p>un mot ou une phrase est une chaine de caract&egrave;res, qui se comporte comme une liste.</p>\n",
    "<p><strong>mot =[]&nbsp;</strong> #liste vide</p>\n",
    "<p>Si mot est une chaine alors <strong>mot[0]</strong> est la pr&egrave;miere lettre, <strong>mot[1]</strong> la deuxi&egrave;me lettre...et la boucle <strong>for lettre in mot :</strong> permet de parcourir chacune des lettres.</p>\n",
    "<p>Pour transformer une lettre en un nombre, on utilise le code ASCII qui &agrave; chaque caract&egrave;re associe un nombre, <strong>ord(A)</strong> vaut 65, <strong>ord(B)</strong> vaut 66...</p>\n",
    "<p>Ainsi (<strong>ord(lettre-65)</strong>) renvoie le rang de la lettre entre 0 et 25.</p>\n",
    "<p>La transformation inverse se fait par la fonction <strong>chr</strong> : chr(65) renvoie le caract&egrave;re A, chr(66) renvoie B...</p>\n",
    "<p>Pour ajouter une lettre &agrave; une liste, faites <strong>maliste.append(lettre)</strong>.&nbsp;</p>\n",
    "<p>Enfin pour transformer une liste de caract&egrave;res en une chaine, faites<strong> \"\".join(maliste)</strong></p>\n",
    "<p>&nbsp;</p>"
   ]
  },
  {
   "cell_type": "code",
   "execution_count": 85,
   "metadata": {},
   "outputs": [
    {
     "name": "stdout",
     "output_type": "stream",
     "text": [
      "4\n",
      "1\n"
     ]
    }
   ],
   "source": [
    "x=var('x')\n",
    "k=var('k')\n",
    "def cesar_chiffre_nb(x,k):\n",
    "    x+=k\n",
    "    return x\n",
    "\n",
    "def cesar_dechiffre_nb(x,k):\n",
    "    x-=k\n",
    "    return x\n",
    "\n",
    "x=cesar_chiffre_nb(1,3)\n",
    "print(x)\n",
    "x=cesar_dechiffre_nb(x,3)\n",
    "print(x)"
   ]
  },
  {
   "cell_type": "markdown",
   "metadata": {},
   "source": [
    "<p class=\" CodeMirror-line sagews-output-cm-text\"><span><span style=\"text-decoration: underline;\">EXERCICE 3</span><br />Ecrire une fonction que vous allez appeler&nbsp;<strong>cesar_chiffre_mot(mot,k)</strong>&nbsp;qui prend en entr&eacute;e un mot en majuscule et le d&eacute;calage de Cesar et qui returne le message crypt&eacute;.<br /><em>Suggestions :</em></span></p>\n",
    "<ol>\n",
    "<li>\n",
    "<p><em>Transformer chaque lettre en nombre.</em></p>\n",
    "</li>\n",
    "<li>\n",
    "<p><em>Utiliser votre fonction cesar_chiffre_nb</em></p>\n",
    "</li>\n",
    "<li>\n",
    "<p><em>Retourner aux lettres&nbsp; avec chr</em></p>\n",
    "</li>\n",
    "<li>\n",
    "<p><em>Ajouter la lettre au message</em></p>\n",
    "</li>\n",
    "<li>\n",
    "<p><em>Revenir &agrave; la chaine de caract&egrave;res.</em></p>\n",
    "</li>\n",
    "</ol>\n",
    "<div><em>Tester votre fonction sur le mot \"TEST\", avec $k=1,22$</em></div>\n",
    "<div><em>Verifier aussi le dechiffrement.</em></div>"
   ]
  },
  {
   "cell_type": "code",
   "execution_count": 53,
   "metadata": {},
   "outputs": [
    {
     "name": "stdout",
     "output_type": "stream",
     "text": [
      "Mot crypté : UFTU\n",
      "Mot crypté : TEST\n"
     ]
    }
   ],
   "source": [
    "def cesar_chiffre_mot(mot,s):\n",
    "    r = \"\"\n",
    "    for i in range(len(text)):\n",
    "        char = text[i]\n",
    "      \n",
    "        r += chr((ord(char) + s-65) % 26 + 65) # ord(char) -> ascii puis char() -> go to letter\n",
    "\n",
    "    \n",
    "    return r\n",
    "    \n",
    "text = \"TEST\"\n",
    "s = 1\n",
    "print(\"Mot crypté : \" + cesar_chiffre_mot(text,s))\n",
    "\n",
    "\n",
    "#########################\n",
    "# decrypt \n",
    "def cesar_dechiffre_mot(mot,s):\n",
    "    r = \"\"\n",
    "    for i in range(len(text)):\n",
    "        char = text[i]\n",
    "      \n",
    "        r += chr((ord(char) + s-65) % 26 + 65) # ord(char) -> ascii puis char() -> go to letter\n",
    "\n",
    "    \n",
    "    return r\n",
    "\n",
    "text = \"UFTU\"\n",
    "s = 1\n",
    "print(\"Mot décrypté : \" + cesar_dechiffre_mot(text,26-s))\n"
   ]
  },
  {
   "cell_type": "markdown",
   "metadata": {},
   "source": [
    "<p class=\" CodeMirror-line sagews-output-cm-text\"><span style=\"background-color: #ffffff; color: #000000;\"><span class=\"CodeMirror-widget\"><span class=\"sagews-output sagews-output-done\"><span class=\"sagews-output-html\"><span style=\"text-decoration: underline;\">EXERCICE 4</span>&nbsp;<br /> Tester votre fonction avec $k=13$ et la phrase suivante : <span style=\"text-decoration: underline;\">La vita &egrave; bella</span><br /><br /> Faire un copier-coller du texte ci-dessus :<br /><br /> <em>message_clair</em> : LAVITAEBELLA<br />et verifier que l'on obtient <br /> <em>message_crypt</em> :&nbsp;YNIVGNRORYYN</span></span></span></span></p>"
   ]
  },
  {
   "cell_type": "code",
   "execution_count": 55,
   "metadata": {},
   "outputs": [
    {
     "name": "stdout",
     "output_type": "stream",
     "text": [
      "Mot crypté : YNIVGNRORYYN\n"
     ]
    }
   ],
   "source": [
    "def cesar_chiffre_mot(mot,s):\n",
    "    r = \"\"\n",
    "    for i in range(len(text)):\n",
    "        char = text[i]\n",
    "      \n",
    "        r += chr((ord(char) + s-65) % 26 + 65) # ord(char) -> ascii puis char() -> go to letter\n",
    "\n",
    "    \n",
    "    return r\n",
    "    \n",
    "text = \"LAVITAEBELLA\"\n",
    "s = 13\n",
    "print(\"Mot crypté : \" + cesar_chiffre_mot(text,s))\n"
   ]
  },
  {
   "cell_type": "markdown",
   "metadata": {},
   "source": [
    "<p class=\" CodeMirror-line sagews-output-cm-text\"><span style=\"color: #000000; font-family: arial,helvetica,sans-serif;\"><span class=\"CodeMirror-widget\"><span class=\"sagews-output sagews-output-done\"><span class=\"sagews-output-html\"><span style=\"text-decoration: underline;\">EXERCICE 5</span>&nbsp;<br />Avec votre fonction, d&eacute;crypter</span></span></span></span></p>\n",
    "<p align=\"center\"><span style=\"color: #000000; font-family: arial,helvetica,sans-serif;\">LOHVWWHPSVGHSDVVHUDDXWUHFKRVH</span></p>"
   ]
  },
  {
   "cell_type": "code",
   "execution_count": 74,
   "metadata": {},
   "outputs": [
    {
     "name": "stdout",
     "output_type": "stream",
     "text": [
      "clé 1 : MPIWXXIQTWHITEWWIVEEYXVIGLSWI\n",
      "clé 2 : NQJXYYJRUXIJUFXXJWFFZYWJHMTXJ\n",
      "clé 3 : ORKYZZKSVYJKVGYYKXGGAZXKINUYK\n",
      "clé 4 : PSLZAALTWZKLWHZZLYHHBAYLJOVZL\n",
      "clé 5 : QTMABBMUXALMXIAAMZIICBZMKPWAM\n",
      "clé 6 : RUNBCCNVYBMNYJBBNAJJDCANLQXBN\n",
      "clé 7 : SVOCDDOWZCNOZKCCOBKKEDBOMRYCO\n",
      "clé 8 : TWPDEEPXADOPALDDPCLLFECPNSZDP\n",
      "clé 9 : UXQEFFQYBEPQBMEEQDMMGFDQOTAEQ\n",
      "clé 10 : VYRFGGRZCFQRCNFFRENNHGERPUBFR\n",
      "clé 11 : WZSGHHSADGRSDOGGSFOOIHFSQVCGS\n",
      "clé 12 : XATHIITBEHSTEPHHTGPPJIGTRWDHT\n",
      "clé 13 : YBUIJJUCFITUFQIIUHQQKJHUSXEIU\n",
      "clé 14 : ZCVJKKVDGJUVGRJJVIRRLKIVTYFJV\n",
      "clé 15 : ADWKLLWEHKVWHSKKWJSSMLJWUZGKW\n",
      "clé 16 : BEXLMMXFILWXITLLXKTTNMKXVAHLX\n",
      "clé 17 : CFYMNNYGJMXYJUMMYLUUONLYWBIMY\n",
      "clé 18 : DGZNOOZHKNYZKVNNZMVVPOMZXCJNZ\n",
      "clé 19 : EHAOPPAILOZALWOOANWWQPNAYDKOA\n",
      "clé 20 : FIBPQQBJMPABMXPPBOXXRQOBZELPB\n",
      "clé 21 : GJCQRRCKNQBCNYQQCPYYSRPCAFMQC\n",
      "clé 22 : HKDRSSDLORCDOZRRDQZZTSQDBGNRD\n",
      "clé 23 : ILESTTEMPSDEPASSERAAUTRECHOSE\n",
      "clé 24 : JMFTUUFNQTEFQBTTFSBBVUSFDIPTF\n",
      "clé 25 : KNGUVVGORUFGRCUUGTCCWVTGEJQUG\n",
      "clé 26 : LOHVWWHPSVGHSDVVHUDDXWUHFKRVH\n",
      "\n",
      "\n",
      "Mot décrypté : ILESTTEMPSDEPASSERAAUTRECHOSE\n"
     ]
    }
   ],
   "source": [
    "def cesar_dechiffre_mot(mot):\n",
    "    r = \"\"\n",
    "    for v in range(1,27):\n",
    "        for i in range(len(text)):\n",
    "            char = text[i]\n",
    "\n",
    "            r += chr((ord(char) + v-65) % 26 + 65) # ord(char) -> ascii puis char() -> go to letter\n",
    "\n",
    "    \n",
    "        print(\"clé {} : {}\".format(v,r))\n",
    "        r = \"\"\n",
    "    \n",
    "text = \"LOHVWWHPSVGHSDVVHUDDXWUHFKRVH\"\n",
    "cesar_dechiffre_mot(text)\n",
    "\n",
    "# du coup bah \n",
    "def cesar_dechiffre_mot(mot,s):\n",
    "    r = \"\"\n",
    "    for i in range(len(text)):\n",
    "        char = text[i]\n",
    "      \n",
    "        r += chr((ord(char) + s-65) % 26 + 65) # ord(char) -> ascii puis char() -> go to letter\n",
    "\n",
    "    \n",
    "    return r\n",
    "\n",
    "s = 3\n",
    "print(\"\\n\\nMot décrypté : \" + cesar_dechiffre_mot(text,26-s))"
   ]
  },
  {
   "cell_type": "markdown",
   "metadata": {},
   "source": [
    "<p class=\" CodeMirror-line sagews-output-cm-text\"><span><span style=\"text-decoration: underline;\">EXERCICE 6</span>&nbsp;<br />Avec votre fonction, d&eacute;crypter</span></p>\n",
    "<p align=\"center\">ARZDVIRZJDZVLOVKIVCVGIVDZVIUREJLEMZCCRXVHLVCVJVTFEURIFDV</p>\n",
    "<p>&nbsp;</p>\n",
    "<p class=\" CodeMirror-line sagews-output-cm-text\"><span style=\"color: #000000;\"><span class=\"CodeMirror-widget\"><span class=\"sagews-output sagews-output-done\"><span class=\"sagews-output-html\"><br /></span></span></span></span></p>"
   ]
  },
  {
   "cell_type": "code",
   "execution_count": 81,
   "metadata": {},
   "outputs": [
    {
     "name": "stdout",
     "output_type": "stream",
     "text": [
      "clé 1 : BSAEWJSAKEAWMPWLJWDWHJWEAWJVSFKMFNADDSYWIMWDWKWUGFVSJGEW\n",
      "clé 2 : CTBFXKTBLFBXNQXMKXEXIKXFBXKWTGLNGOBEETZXJNXEXLXVHGWTKHFX\n",
      "clé 3 : DUCGYLUCMGCYORYNLYFYJLYGCYLXUHMOHPCFFUAYKOYFYMYWIHXULIGY\n",
      "clé 4 : EVDHZMVDNHDZPSZOMZGZKMZHDZMYVINPIQDGGVBZLPZGZNZXJIYVMJHZ\n",
      "clé 5 : FWEIANWEOIEAQTAPNAHALNAIEANZWJOQJREHHWCAMQAHAOAYKJZWNKIA\n",
      "clé 6 : GXFJBOXFPJFBRUBQOBIBMOBJFBOAXKPRKSFIIXDBNRBIBPBZLKAXOLJB\n",
      "clé 7 : HYGKCPYGQKGCSVCRPCJCNPCKGCPBYLQSLTGJJYECOSCJCQCAMLBYPMKC\n",
      "clé 8 : IZHLDQZHRLHDTWDSQDKDOQDLHDQCZMRTMUHKKZFDPTDKDRDBNMCZQNLD\n",
      "clé 9 : JAIMERAISMIEUXETRELEPREMIERDANSUNVILLAGEQUELESECONDAROME\n",
      "clé 10 : KBJNFSBJTNJFVYFUSFMFQSFNJFSEBOTVOWJMMBHFRVFMFTFDPOEBSPNF\n",
      "clé 11 : LCKOGTCKUOKGWZGVTGNGRTGOKGTFCPUWPXKNNCIGSWGNGUGEQPFCTQOG\n",
      "clé 12 : MDLPHUDLVPLHXAHWUHOHSUHPLHUGDQVXQYLOODJHTXHOHVHFRQGDURPH\n",
      "clé 13 : NEMQIVEMWQMIYBIXVIPITVIQMIVHERWYRZMPPEKIUYIPIWIGSRHEVSQI\n",
      "clé 14 : OFNRJWFNXRNJZCJYWJQJUWJRNJWIFSXZSANQQFLJVZJQJXJHTSIFWTRJ\n",
      "clé 15 : PGOSKXGOYSOKADKZXKRKVXKSOKXJGTYATBORRGMKWAKRKYKIUTJGXUSK\n",
      "clé 16 : QHPTLYHPZTPLBELAYLSLWYLTPLYKHUZBUCPSSHNLXBLSLZLJVUKHYVTL\n",
      "clé 17 : RIQUMZIQAUQMCFMBZMTMXZMUQMZLIVACVDQTTIOMYCMTMAMKWVLIZWUM\n",
      "clé 18 : SJRVNAJRBVRNDGNCANUNYANVRNAMJWBDWERUUJPNZDNUNBNLXWMJAXVN\n",
      "clé 19 : TKSWOBKSCWSOEHODBOVOZBOWSOBNKXCEXFSVVKQOAEOVOCOMYXNKBYWO\n",
      "clé 20 : ULTXPCLTDXTPFIPECPWPACPXTPCOLYDFYGTWWLRPBFPWPDPNZYOLCZXP\n",
      "clé 21 : VMUYQDMUEYUQGJQFDQXQBDQYUQDPMZEGZHUXXMSQCGQXQEQOAZPMDAYQ\n",
      "clé 22 : WNVZRENVFZVRHKRGERYRCERZVREQNAFHAIVYYNTRDHRYRFRPBAQNEBZR\n",
      "clé 23 : XOWASFOWGAWSILSHFSZSDFSAWSFROBGIBJWZZOUSEISZSGSQCBROFCAS\n",
      "clé 24 : YPXBTGPXHBXTJMTIGTATEGTBXTGSPCHJCKXAAPVTFJTATHTRDCSPGDBT\n",
      "clé 25 : ZQYCUHQYICYUKNUJHUBUFHUCYUHTQDIKDLYBBQWUGKUBUIUSEDTQHECU\n",
      "clé 26 : ARZDVIRZJDZVLOVKIVCVGIVDZVIUREJLEMZCCRXVHLVCVJVTFEURIFDV\n",
      "\n",
      "\n",
      "D'ou la célèbre citation de César : JAIMERAISMIEUXETRELEPREMIERDANSUNVILLAGEQUELESECONDAROME\n"
     ]
    }
   ],
   "source": [
    "def cesar_dechiffre_mot(mot):\n",
    "    r = \"\"\n",
    "    for v in range(1,27):\n",
    "        for i in range(len(text)):\n",
    "            char = text[i]\n",
    "\n",
    "            r += chr((ord(char) + v-65) % 26 + 65) # ord(char) -> ascii puis char() -> go to letter\n",
    "\n",
    "    \n",
    "        print(\"clé {} : {}\".format(v,r))\n",
    "        r = \"\"\n",
    "    \n",
    "text = \"ARZDVIRZJDZVLOVKIVCVGIVDZVIUREJLEMZCCRXVHLVCVJVTFEURIFDV\"\n",
    "cesar_dechiffre_mot(text)\n",
    "\n",
    "# du coup bah \n",
    "def cesar_dechiffre_mot(mot,s):\n",
    "    r = \"\"\n",
    "    for i in range(len(text)):\n",
    "        char = text[i]\n",
    "      \n",
    "        r += chr((ord(char) + s-65) % 26 + 65) # ord(char) -> ascii puis char() -> go to letter\n",
    "\n",
    "    \n",
    "    return r\n",
    "\n",
    "s = 17\n",
    "print(\"\\n\\nD'ou la célèbre citation de César : \" + cesar_dechiffre_mot(text,26-s))"
   ]
  },
  {
   "cell_type": "markdown",
   "metadata": {},
   "source": [
    "<p><span style=\"text-decoration: underline;\">EXERCICE BONUS</span><br />Ecrire une fonction que vous allez appeler&nbsp;<strong>pgcd_bezout(a,b)</strong>&nbsp;qui returne les coefficients de Bezout de deux nombres.<br />Tester votre fonction sur $3\\wedge1$,&nbsp;$3\\wedge0$,&nbsp;$3\\wedge3$ et&nbsp;$3\\wedge15$&nbsp;</p>"
   ]
  },
  {
   "cell_type": "code",
   "execution_count": 165,
   "metadata": {},
   "outputs": [
    {
     "name": "stdout",
     "output_type": "stream",
     "text": [
      "Pgcd : 1\n",
      "Bézout : (18,-49)\n"
     ]
    }
   ],
   "source": [
    "from math import *\n",
    "\n",
    "# on cherche la solution (-q2, 1+q1q2) \n",
    "def Bezout (r0,r1): \n",
    "    u0, u1= 0, 1\n",
    "    v1=-r0//r1 # le reste de la division de rn-1 par rn\n",
    "\n",
    "    s=[r1,u0] # tout dans un machin truc list\n",
    "    \n",
    "    while r0%r1:\n",
    "        r=r0 \n",
    "        r0=r1 #temp r0\n",
    "        r1=r%r1 #pgcd\n",
    "        u=u0 #temp u0\n",
    "        u0=u1 \n",
    "        q=r0//r1 # le reste de la division de rn-1 par rn\n",
    "        u1= u-q*u1 # un+1=un-1-qn+1un\n",
    "        s=[r1,u0] #update\n",
    "    return s \n",
    " \n",
    "nombre_a = 128\n",
    "nombre_b = 47\n",
    "\n",
    "a = Bezout(nombre_a, nombre_b)\n",
    "f = floor(float(-nombre_a*a[1]/nombre_b) + 1)\n",
    "\n",
    "print(\"Pgcd : {}\\nBézout : ({},{})\".format(a[0], a[1], f))"
   ]
  },
  {
   "cell_type": "code",
   "execution_count": null,
   "metadata": {},
   "outputs": [],
   "source": []
  }
 ],
 "metadata": {
  "kernelspec": {
   "display_name": "SageMath 8.8",
   "language": "",
   "name": "sagemath"
  },
  "language_info": {
   "codemirror_mode": {
    "name": "ipython",
    "version": 3
   },
   "file_extension": ".py",
   "mimetype": "text/x-python",
   "name": "python",
   "nbconvert_exporter": "python",
   "pygments_lexer": "ipython3",
   "version": "3.7.4"
  }
 },
 "nbformat": 4,
 "nbformat_minor": 2
}
