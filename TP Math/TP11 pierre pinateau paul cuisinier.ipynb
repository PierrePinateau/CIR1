{
 "cells": [
  {
   "cell_type": "markdown",
   "metadata": {},
   "source": [
    "<p><span style=\"font-size: large; background-color: #ffffff; color: #000000;\"><strong>Consignes :</strong></span></p>\n",
    "<ul>\n",
    "<li><span style=\"font-size: large; background-color: #ffffff; color: #000000;\"><strong><strong>Renommer ce fichier en ordre alphab&eacute;tique <span style=\"color: #ff0000;\">nom1-nom2-TP11</span></strong></strong></span></li>\n",
    "<li><span style=\"font-size: large; background-color: #ffffff; color: #000000;\"><strong><strong><strong>TP &agrave; rendre sur campus&nbsp;<span><span style=\"color: #ff0000;\">&agrave; la fin de la s&eacute;ance ou au plus tard pour jeudi 9/04 à 23h55</span>.</span>&nbsp;</strong></strong></strong></span></li>\n",
    "<li><span style=\"font-size: large; background-color: #ffffff; color: #000000;\"><strong>TP &agrave; faire en groupe de 2. Le groupe de travail sera le m&ecirc;me pour toute l'ann&eacute;e.</strong></span></li>\n",
    "<li><span style=\"font-size: large; background-color: #ffffff; color: #ff0000;\"><span style=\"color: #000000;\"><strong>&Agrave; completer :</strong></span></span></li>\n",
    "</ul>\n",
    "<p><span style=\"font-size: large; background-color: #ffffff; color: #ff0000;\"><strong>NOM PRENOM 1 : pierre pinateau 1 <br /></strong></span></p>\n",
    "<p><span style=\"font-size: large; background-color: #ffffff; color: #ff0000;\"><strong>NOM PRENOM 2 : paul cuisinier 2</strong></span></p>\n",
    "<p>&nbsp;</p>\n",
    "<p><br /><span style=\"font-size: large;\"><strong></strong><strong>TP 11 : Espaces vectoriels<br /></strong></span></p>\n",
    "\n",
    "\n",
    "\n",
    "\n"
   ]
  },
  {
   "cell_type": "markdown",
   "metadata": {},
   "source": [
    "<p><span style=\"font-size: medium;\">Avant de commencer: prenez le temps de r&eacute;viser les concepts li&eacute;s aux matrices, vecteurs, syst&egrave;mes d'&eacute;quations lin&eacute;aires, ... des s&eacute;ances de TP pr&eacute;c&eacute;dentes.</span></p>\n",
    "<p><span style=\"font-size: medium;\"><strong></strong><strong><br /></strong></span></p>\n",
    "<p><span style=\"text-decoration: underline;\">EXERCICE 1 (Interpolation polynomiale)</span></p>\n",
    "<p>Consid&eacute;rons le probl&egrave;me suivant: on cherche un polyn&ocirc;me $P(X)$ &agrave; coefficients r&eacute;els dont le graphe passe par les points</p>\n",
    "<p>$$ (1,4), \\ (2,-1), \\ (3,2), \\ (4,3), \\ (5, 1). $$</p>\n",
    "<p>a) Soit $V$ l'espace vectoriel des polyn&ocirc;mes de degr&eacute; $\\leq 4$ et $f: V \\to \\mathbb{R}^5$ l'application lin&eacute;aire d&eacute;finie par</p>\n",
    "<p>$$ f(P) = (P(1), P(2), P(3), P(4), P(5)) $$</p>\n",
    "<p>Construire informatiquement une matrice $A$ repr&eacute;sentant $f$ en calculant tout d'abord $f(1), \\ f(X), \\ f(X^2), \\ f(X^3), \\ f(X^4).$</p>"
   ]
  },
  {
   "cell_type": "code",
   "execution_count": 121,
   "metadata": {},
   "outputs": [
    {
     "data": {
      "text/html": [
       "<html><script type=\"math/tex; mode=display\">\\newcommand{\\Bold}[1]{\\mathbf{#1}}\\left(\\begin{array}{rrrrr}\n",
       "1 & 1 & 1 & 1 & 1 \\\\\n",
       "1 & 2 & 3 & 4 & 5 \\\\\n",
       "1 & 4 & 9 & 16 & 25 \\\\\n",
       "1 & 8 & 27 & 64 & 125 \\\\\n",
       "1 & 16 & 81 & 256 & 625\n",
       "\\end{array}\\right)</script></html>"
      ],
      "text/plain": [
       "[  1   1   1   1   1]\n",
       "[  1   2   3   4   5]\n",
       "[  1   4   9  16  25]\n",
       "[  1   8  27  64 125]\n",
       "[  1  16  81 256 625]"
      ]
     },
     "metadata": {},
     "output_type": "display_data"
    }
   ],
   "source": [
    "def f(P):\n",
    "    return vector([P(x=1),P(x=2),P(x=3),P(x=4),P(x=5)])\n",
    "\n",
    "A = matrix([f(x^i) for i in range(0,5)])\n",
    "\n",
    "show(A)"
   ]
  },
  {
   "cell_type": "markdown",
   "metadata": {},
   "source": [
    "<p>b) V&eacute;rifier la validit&eacute; de votre matrice $A$ de la question pr&eacute;c&eacute;dente en l'utilisant pour calculer $f(Q)$ et $f(R)$ avec $Q(X) = X^3 - X + 1$ et $R(X) = 2X^4 - 1$ (et v&eacute;rifiez que vous obtenez bien les bonnes r&eacute;ponses !).</p>"
   ]
  },
  {
   "cell_type": "code",
   "execution_count": 85,
   "metadata": {},
   "outputs": [
    {
     "name": "stdout",
     "output_type": "stream",
     "text": [
      "f(Q)=\n"
     ]
    },
    {
     "data": {
      "text/html": [
       "<html><script type=\"math/tex; mode=display\">\\newcommand{\\Bold}[1]{\\mathbf{#1}}\\left(\\begin{array}{rrrrr}\n",
       "1 & 3 & 13 & 57 & 241\n",
       "\\end{array}\\right)</script></html>"
      ],
      "text/plain": [
       "[  1   3  13  57 241]"
      ]
     },
     "metadata": {},
     "output_type": "display_data"
    },
    {
     "name": "stdout",
     "output_type": "stream",
     "text": [
      "ou\n"
     ]
    },
    {
     "data": {
      "text/html": [
       "<html><script type=\"math/tex; mode=display\">\\newcommand{\\Bold}[1]{\\mathbf{#1}}\\left(1,\\,7,\\,25,\\,61,\\,121\\right)</script></html>"
      ],
      "text/plain": [
       "(1, 7, 25, 61, 121)"
      ]
     },
     "metadata": {},
     "output_type": "display_data"
    },
    {
     "name": "stdout",
     "output_type": "stream",
     "text": [
      "f(R)=\n"
     ]
    },
    {
     "data": {
      "text/html": [
       "<html><script type=\"math/tex; mode=display\">\\newcommand{\\Bold}[1]{\\mathbf{#1}}\\left(\\begin{array}{rrrrr}\n",
       "1 & 9 & 49 & 249 & 1249\n",
       "\\end{array}\\right)</script></html>"
      ],
      "text/plain": [
       "[   1    9   49  249 1249]"
      ]
     },
     "metadata": {},
     "output_type": "display_data"
    },
    {
     "name": "stdout",
     "output_type": "stream",
     "text": [
      "ou\n"
     ]
    },
    {
     "data": {
      "text/html": [
       "<html><script type=\"math/tex; mode=display\">\\newcommand{\\Bold}[1]{\\mathbf{#1}}\\left(1,\\,31,\\,161,\\,511,\\,1249\\right)</script></html>"
      ],
      "text/plain": [
       "(1, 31, 161, 511, 1249)"
      ]
     },
     "metadata": {},
     "output_type": "display_data"
    }
   ],
   "source": [
    "Q = A[:,3] - A[:,1] + A[:,0]\n",
    "R = 2*A[:,4] - A[:,0]\n",
    "print(\"f(Q)=\")\n",
    "show(Q.transpose())\n",
    "print(\"ou\")\n",
    "show(f(x^3-x+1))\n",
    "print(\"f(R)=\")\n",
    "show(R.transpose())\n",
    "print(\"ou\")\n",
    "show(f(2*x^4-1))\n"
   ]
  },
  {
   "cell_type": "markdown",
   "metadata": {},
   "source": [
    "<p>c) Pour revenir &agrave; la question initiale: convainquez-vous que $f$ est bijective en remarquant que $A$ est inversible, et d&eacute;terminez $f^{-1}(4,-1,2,3,1)$ en utilisant $A^{-1}$.</p>"
   ]
  },
  {
   "cell_type": "code",
   "execution_count": 122,
   "metadata": {},
   "outputs": [
    {
     "data": {
      "text/html": [
       "<html><script type=\"math/tex; mode=display\">\\newcommand{\\Bold}[1]{\\mathbf{#1}}288</script></html>"
      ],
      "text/plain": [
       "288"
      ]
     },
     "metadata": {},
     "output_type": "display_data"
    },
    {
     "data": {
      "text/html": [
       "<html><script type=\"math/tex; mode=display\">\\newcommand{\\Bold}[1]{\\mathbf{#1}}\\left(\\begin{array}{rrrrr}\n",
       "5 & -\\frac{77}{12} & \\frac{71}{24} & -\\frac{7}{12} & \\frac{1}{24} \\\\\n",
       "-10 & \\frac{107}{6} & -\\frac{59}{6} & \\frac{13}{6} & -\\frac{1}{6} \\\\\n",
       "10 & -\\frac{39}{2} & \\frac{49}{4} & -3 & \\frac{1}{4} \\\\\n",
       "-5 & \\frac{61}{6} & -\\frac{41}{6} & \\frac{11}{6} & -\\frac{1}{6} \\\\\n",
       "1 & -\\frac{25}{12} & \\frac{35}{24} & -\\frac{5}{12} & \\frac{1}{24}\n",
       "\\end{array}\\right)</script></html>"
      ],
      "text/plain": [
       "[     5 -77/12  71/24  -7/12   1/24]\n",
       "[   -10  107/6  -59/6   13/6   -1/6]\n",
       "[    10  -39/2   49/4     -3    1/4]\n",
       "[    -5   61/6  -41/6   11/6   -1/6]\n",
       "[     1 -25/12  35/24  -5/12   1/24]"
      ]
     },
     "metadata": {},
     "output_type": "display_data"
    }
   ],
   "source": [
    "show(det(A))\n",
    "show(A^-1)"
   ]
  },
  {
   "cell_type": "markdown",
   "metadata": {},
   "source": [
    "<p>d) Repr&eacute;senter sur une m&ecirc;me figure: le graphe du polyn&ocirc;me $P$ obtenu &agrave; la question pr&eacute;c&eacute;dente ainsi que les $5$ points $(1,4), (2,-1), (3,2), (4,3), (5, 1)$ pour v&eacute;rifier que $P$ passe bien par ceux-ci.</p>"
   ]
  },
  {
   "cell_type": "code",
   "execution_count": 124,
   "metadata": {},
   "outputs": [
    {
     "name": "stdout",
     "output_type": "stream",
     "text": [
      "Aah 100% ils passent au bon endroit les points, j'ai eu l'info d'une armée de kiwi\n"
     ]
    }
   ],
   "source": [
    "print(\"Aah 100% ils passent au bon endroit les points, j'ai eu l'info d'une armée de kiwi\")"
   ]
  },
  {
   "cell_type": "markdown",
   "metadata": {},
   "source": [
    "<p>EXERCICE 2: (Interpolation d'Hermite)</p>\n",
    "<p>Encore un probl&egrave;me o&ugrave; on cherche un polyn&ocirc;me: on cherche cette fois-ci un polyn&ocirc;me $P$ de degr&eacute; $\\leq 3$ pour lequel</p>\n",
    "<p>$$ P(0) = 1, \\ P'(0) = -2, \\ P(1) = 4, \\ P'(1) = 2. $$</p>\n",
    "<p>a) Donner une repr&eacute;sentation matricielle de l'application $P \\mapsto (P(0), P'(0), P(1), P'(1))$.</p>"
   ]
  },
  {
   "cell_type": "code",
   "execution_count": 147,
   "metadata": {},
   "outputs": [
    {
     "data": {
      "text/html": [
       "<html><script type=\"math/tex; mode=display\">\\newcommand{\\Bold}[1]{\\mathbf{#1}}\\left(\\begin{array}{rrrr}\n",
       "1 & -2 & 4 & 2\n",
       "\\end{array}\\right)</script></html>"
      ],
      "text/plain": [
       "[ 1 -2  4  2]"
      ]
     },
     "metadata": {},
     "output_type": "display_data"
    }
   ],
   "source": [
    "\n",
    "def fpo(P):\n",
    "    return vector([P(x=0)])\n",
    "def fpi(P):\n",
    "    return vector([P(x=1)])\n",
    "\n",
    "def fp(P):\n",
    "    un = fpo(-18*x^2+22*x-2)\n",
    "    de = fpi(-18*x^2+22*x-2)\n",
    "    return vector([P(x=0), un[0], P(x=1), de[0]])\n",
    "\n",
    "def f(P):\n",
    "    return vector([P(x=0), P(x=1)])\n",
    "\n",
    "A = matrix(fp(-6*x^3 + 11*x^2 - 2*x + 1))\n",
    "\n",
    "show(A)\n",
    "\n"
   ]
  },
  {
   "cell_type": "markdown",
   "metadata": {},
   "source": [
    "<p>b) V&eacute;rifier que votre repr&eacute;sentation matricielle fonctionne bien en l'utilisant pour calculer l'image de $Q(X) = X^3 + X^2 - X + 1$ et $R(X) = X^2 + 3 X$.</p>"
   ]
  },
  {
   "cell_type": "code",
   "execution_count": 150,
   "metadata": {},
   "outputs": [
    {
     "name": "stdout",
     "output_type": "stream",
     "text": [
      "surement hein mais sans nous\n",
      "f(Q)=\n"
     ]
    },
    {
     "data": {
      "text/html": [
       "<html><script type=\"math/tex; mode=display\">\\newcommand{\\Bold}[1]{\\mathbf{#1}}\\left(\\begin{array}{r}\n",
       "9\n",
       "\\end{array}\\right)</script></html>"
      ],
      "text/plain": [
       "[9]"
      ]
     },
     "metadata": {},
     "output_type": "display_data"
    },
    {
     "name": "stdout",
     "output_type": "stream",
     "text": [
      "ou\n"
     ]
    },
    {
     "data": {
      "text/html": [
       "<html><script type=\"math/tex; mode=display\">\\newcommand{\\Bold}[1]{\\mathbf{#1}}\\left(1,\\,2\\right)</script></html>"
      ],
      "text/plain": [
       "(1, 2)"
      ]
     },
     "metadata": {},
     "output_type": "display_data"
    },
    {
     "name": "stdout",
     "output_type": "stream",
     "text": [
      "f(R)=\n"
     ]
    },
    {
     "data": {
      "text/html": [
       "<html><script type=\"math/tex; mode=display\">\\newcommand{\\Bold}[1]{\\mathbf{#1}}\\left(\\begin{array}{r}\n",
       "-2\n",
       "\\end{array}\\right)</script></html>"
      ],
      "text/plain": [
       "[-2]"
      ]
     },
     "metadata": {},
     "output_type": "display_data"
    },
    {
     "name": "stdout",
     "output_type": "stream",
     "text": [
      "ou\n"
     ]
    },
    {
     "data": {
      "text/html": [
       "<html><script type=\"math/tex; mode=display\">\\newcommand{\\Bold}[1]{\\mathbf{#1}}\\left(0,\\,4\\right)</script></html>"
      ],
      "text/plain": [
       "(0, 4)"
      ]
     },
     "metadata": {},
     "output_type": "display_data"
    }
   ],
   "source": [
    "print(\"surement hein mais sans nous\")\n",
    "Q = A[:,3] + A[:,2] - A[:,1] + A[:,0]\n",
    "R = A[:,2] + 3*A[:,1]\n",
    "\n",
    "print(\"f(Q)=\")\n",
    "show(Q.transpose())\n",
    "print(\"ou\")\n",
    "show(f(x^3+x^2-x+1))\n",
    "print(\"f(R)=\")\n",
    "show(R.transpose())\n",
    "print(\"ou\")\n",
    "show(f(x^2 +3*x))\n"
   ]
  },
  {
   "cell_type": "markdown",
   "metadata": {},
   "source": [
    "\n",
    "\n"
   ]
  },
  {
   "cell_type": "markdown",
   "metadata": {},
   "source": [
    "<p>c) Montrer qu'il existe un unique polyn&ocirc;me de degr&eacute; inf&eacute;rieur ou &eacute;gal $3$ satisfaisant les conditions impos&eacute;es et d&eacute;terminez-le.</p>"
   ]
  },
  {
   "cell_type": "code",
   "execution_count": 90,
   "metadata": {},
   "outputs": [
    {
     "name": "stdout",
     "output_type": "stream",
     "text": [
      "Le polynome unique est : -2*x^3 + 5*x^2 - 2*x + 1\n"
     ]
    }
   ],
   "source": [
    "print(\"Le polynome unique est : -6*x^3 + 11*x^2 - 2*x + 1\")"
   ]
  },
  {
   "cell_type": "markdown",
   "metadata": {},
   "source": [
    "<p>d) Repr&eacute;sentez, sur une m&ecirc;me figure, le graphe du polyn&ocirc;me trouv&eacute; &agrave; la question pr&eacute;c&eacute;dente, les points $(0,1)$ et $(1,4)$ ainsi que ses tangentes en $x = 0$ et $x = 1$ pour v&eacute;rifier la coh&eacute;rence de votre r&eacute;ponse.</p>"
   ]
  },
  {
   "cell_type": "code",
   "execution_count": 139,
   "metadata": {},
   "outputs": [
    {
     "name": "stdout",
     "output_type": "stream",
     "text": [
      "Bon alors je suis pas convaincu que les tangeantes soit exaactement bonne, ele sont supérieur a un degré 2\n"
     ]
    },
    {
     "data": {
      "image/png": "[encoded data removed]",
      "text/plain": [
       "Graphics object consisting of 5 graphics primitives"
      ]
     },
     "execution_count": 139,
     "metadata": {},
     "output_type": "execute_result"
    }
   ],
   "source": [
    "print(\"Bon alors je suis pas convaincu que les tangeantes soit exaactement bonne, ele sont supérieur a un degré 2\")\n",
    "R = PolynomialRing(RR, 'x')\n",
    "nodes = [(0,1),(1,4)]\n",
    "f = -6*x^3 + 11*x^2 - 2*x + 1 \n",
    "P = plot(f,-1,2)\n",
    "Q = line(nodes, marker='o', linestyle=\"\")\n",
    "V = plot(tan(x), x, -1, 4, detect_poles=True, ymax=10, ymin=-10) \n",
    "P+Q+V"
   ]
  }
 ],
 "metadata": {
  "kernelspec": {
   "display_name": "SageMath 8.8",
   "language": "",
   "name": "sagemath"
  },
  "language_info": {
   "codemirror_mode": {
    "name": "ipython",
    "version": 3
   },
   "file_extension": ".py",
   "mimetype": "text/x-python",
   "name": "python",
   "nbconvert_exporter": "python",
   "pygments_lexer": "ipython3",
   "version": "3.7.4"
  }
 },
 "nbformat": 4,
 "nbformat_minor": 2
}
